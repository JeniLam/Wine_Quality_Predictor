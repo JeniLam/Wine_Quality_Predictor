{
 "cells": [
  {
   "cell_type": "code",
   "execution_count": 1,
   "id": "silent-township",
   "metadata": {},
   "outputs": [],
   "source": [
    "# Import Dependencies\n",
    "import pandas as pd\n",
    "import numpy as np\n",
    "\n",
    "import matplotlib.pyplot as plt\n",
    "\n",
    "from sklearn.model_selection import train_test_split\n",
    "from sklearn.preprocessing import PowerTransformer\n",
    "from sklearn.ensemble import RandomForestClassifier"
   ]
  },
  {
   "cell_type": "code",
   "execution_count": 2,
   "id": "presidential-princess",
   "metadata": {},
   "outputs": [],
   "source": [
    "# Load Dataset\n",
    "dataset = pd.read_csv(\"winequality-white.csv\", sep=\";\")\n",
    "dataset['target'] = np.where(dataset['quality']<=5,0,1)\n",
    "\n",
    "# Assign X and y\n",
    "X = dataset.drop([\"quality\", \"target\"], axis=1)\n",
    "y= dataset.target\n",
    "X_train, X_test, y_train, y_test = train_test_split(X, y, random_state=42)"
   ]
  },
  {
   "cell_type": "code",
   "execution_count": 3,
   "id": "interpreted-contractor",
   "metadata": {},
   "outputs": [
    {
     "data": {
      "text/html": [
       "<div>\n",
       "<style scoped>\n",
       "    .dataframe tbody tr th:only-of-type {\n",
       "        vertical-align: middle;\n",
       "    }\n",
       "\n",
       "    .dataframe tbody tr th {\n",
       "        vertical-align: top;\n",
       "    }\n",
       "\n",
       "    .dataframe thead th {\n",
       "        text-align: right;\n",
       "    }\n",
       "</style>\n",
       "<table border=\"1\" class=\"dataframe\">\n",
       "  <thead>\n",
       "    <tr style=\"text-align: right;\">\n",
       "      <th></th>\n",
       "      <th>importance</th>\n",
       "    </tr>\n",
       "  </thead>\n",
       "  <tbody>\n",
       "    <tr>\n",
       "      <th>alcohol</th>\n",
       "      <td>0.145890</td>\n",
       "    </tr>\n",
       "    <tr>\n",
       "      <th>volatile acidity</th>\n",
       "      <td>0.121581</td>\n",
       "    </tr>\n",
       "    <tr>\n",
       "      <th>density</th>\n",
       "      <td>0.102013</td>\n",
       "    </tr>\n",
       "    <tr>\n",
       "      <th>free sulfur dioxide</th>\n",
       "      <td>0.096532</td>\n",
       "    </tr>\n",
       "    <tr>\n",
       "      <th>total sulfur dioxide</th>\n",
       "      <td>0.088359</td>\n",
       "    </tr>\n",
       "    <tr>\n",
       "      <th>chlorides</th>\n",
       "      <td>0.082691</td>\n",
       "    </tr>\n",
       "    <tr>\n",
       "      <th>residual sugar</th>\n",
       "      <td>0.082024</td>\n",
       "    </tr>\n",
       "    <tr>\n",
       "      <th>citric acid</th>\n",
       "      <td>0.075858</td>\n",
       "    </tr>\n",
       "    <tr>\n",
       "      <th>pH</th>\n",
       "      <td>0.075033</td>\n",
       "    </tr>\n",
       "    <tr>\n",
       "      <th>fixed acidity</th>\n",
       "      <td>0.066072</td>\n",
       "    </tr>\n",
       "    <tr>\n",
       "      <th>sulphates</th>\n",
       "      <td>0.063945</td>\n",
       "    </tr>\n",
       "  </tbody>\n",
       "</table>\n",
       "</div>"
      ],
      "text/plain": [
       "                      importance\n",
       "alcohol                 0.145890\n",
       "volatile acidity        0.121581\n",
       "density                 0.102013\n",
       "free sulfur dioxide     0.096532\n",
       "total sulfur dioxide    0.088359\n",
       "chlorides               0.082691\n",
       "residual sugar          0.082024\n",
       "citric acid             0.075858\n",
       "pH                      0.075033\n",
       "fixed acidity           0.066072\n",
       "sulphates               0.063945"
      ]
     },
     "execution_count": 3,
     "metadata": {},
     "output_type": "execute_result"
    }
   ],
   "source": [
    "# Pre-processing PowerTransformer Scaler\n",
    "X_scaler= PowerTransformer().fit(X_train)\n",
    "X_train_scaled = X_scaler.transform(X_train)\n",
    "X_test_scaled = X_scaler.transform(X_test)\n",
    "\n",
    "# Create a random forest classifier\n",
    "rf = RandomForestClassifier(n_estimators=200)\n",
    "rf = rf.fit(X_train_scaled, y_train)\n",
    "rf.score(X_train_scaled, y_train)\n",
    "\n",
    "# Random Forests in sklearn will automatically calculate feature importance\n",
    "importances = rf.feature_importances_\n",
    "\n",
    "# List Feature Importances, sorted\n",
    "feature_importances = pd.DataFrame(rf.feature_importances_,  index = X_train.columns, columns = ['importance']).sort_values('importance', ascending=False)\n",
    "feature_importances"
   ]
  },
  {
   "cell_type": "code",
   "execution_count": 5,
   "id": "excellent-warning",
   "metadata": {},
   "outputs": [
    {
     "name": "stdout",
     "output_type": "stream",
     "text": [
      "[1 1 1 ... 1 1 1]\n",
      "[0 1]\n"
     ]
    }
   ],
   "source": [
    "predictions = rf.predict(X_test_scaled)\n",
    "print(predictions)\n",
    "print(rf.classes_)"
   ]
  },
  {
   "cell_type": "code",
   "execution_count": 7,
   "id": "worth-withdrawal",
   "metadata": {},
   "outputs": [
    {
     "name": "stdout",
     "output_type": "stream",
     "text": [
      "Training Data Score: 1.0\n",
      "Testing Data Score: 0.8326530612244898\n"
     ]
    }
   ],
   "source": [
    "print(f\"Training Data Score: {rf.score(X_train_scaled, y_train)}\")\n",
    "print(f\"Testing Data Score: {rf.score(X_test_scaled, y_test)}\")"
   ]
  },
  {
   "cell_type": "code",
   "execution_count": 9,
   "id": "widespread-pathology",
   "metadata": {},
   "outputs": [],
   "source": [
    "from sklearn.metrics import classification_report"
   ]
  },
  {
   "cell_type": "code",
   "execution_count": 10,
   "id": "proud-banking",
   "metadata": {},
   "outputs": [
    {
     "name": "stdout",
     "output_type": "stream",
     "text": [
      "              precision    recall  f1-score   support\n",
      "\n",
      "           0       0.77      0.69      0.73       397\n",
      "           1       0.86      0.90      0.88       828\n",
      "\n",
      "    accuracy                           0.83      1225\n",
      "   macro avg       0.81      0.80      0.80      1225\n",
      "weighted avg       0.83      0.83      0.83      1225\n",
      "\n"
     ]
    }
   ],
   "source": [
    "print(classification_report(y_test, predictions, zero_division=0))"
   ]
  },
  {
   "cell_type": "code",
   "execution_count": 12,
   "id": "hawaiian-scheme",
   "metadata": {},
   "outputs": [],
   "source": [
    "X2 = dataset.drop([\"quality\", \"target\", 'chlorides', 'residual sugar', 'citric acid', 'pH', 'fixed acidity', 'sulphates'], axis=1)\n",
    "y2= dataset.target\n",
    "X_train2, X_test2, y_train2, y_test2 = train_test_split(X2, y2, random_state=42)"
   ]
  },
  {
   "cell_type": "code",
   "execution_count": 13,
   "id": "spoken-longitude",
   "metadata": {},
   "outputs": [],
   "source": [
    "from sklearn.model_selection import GridSearchCV"
   ]
  },
  {
   "cell_type": "code",
   "execution_count": 20,
   "id": "tested-aruba",
   "metadata": {},
   "outputs": [],
   "source": [
    "# Pre-processing PowerTransformer Scaler\n",
    "X_scaler2= PowerTransformer().fit(X_train2)\n",
    "X_train_scaled2 = X_scaler2.transform(X_train2)\n",
    "X_test_scaled2 = X_scaler2.transform(X_test2)\n",
    "\n",
    "# Create a random forest classifier\n",
    "rf2 = RandomForestClassifier()\n",
    "\n",
    "param_grid = {'n_estimators':[50, 100, 250, 500],\n",
    "              'criterion': ['entropy', 'gini'],\n",
    "              'max_depth': [125, 150, 175]}\n",
    "\n",
    "grid = GridSearchCV(rf, param_grid, verbose =3)"
   ]
  },
  {
   "cell_type": "code",
   "execution_count": 21,
   "id": "major-cemetery",
   "metadata": {},
   "outputs": [
    {
     "name": "stdout",
     "output_type": "stream",
     "text": [
      "Fitting 5 folds for each of 24 candidates, totalling 120 fits\n",
      "[CV] criterion=entropy, max_depth=125, n_estimators=50 ...............\n"
     ]
    },
    {
     "name": "stderr",
     "output_type": "stream",
     "text": [
      "[Parallel(n_jobs=1)]: Using backend SequentialBackend with 1 concurrent workers.\n"
     ]
    },
    {
     "name": "stdout",
     "output_type": "stream",
     "text": [
      "[CV]  criterion=entropy, max_depth=125, n_estimators=50, score=0.803, total=   0.3s\n",
      "[CV] criterion=entropy, max_depth=125, n_estimators=50 ...............\n"
     ]
    },
    {
     "name": "stderr",
     "output_type": "stream",
     "text": [
      "[Parallel(n_jobs=1)]: Done   1 out of   1 | elapsed:    0.2s remaining:    0.0s\n"
     ]
    },
    {
     "name": "stdout",
     "output_type": "stream",
     "text": [
      "[CV]  criterion=entropy, max_depth=125, n_estimators=50, score=0.820, total=   0.3s\n",
      "[CV] criterion=entropy, max_depth=125, n_estimators=50 ...............\n"
     ]
    },
    {
     "name": "stderr",
     "output_type": "stream",
     "text": [
      "[Parallel(n_jobs=1)]: Done   2 out of   2 | elapsed:    0.4s remaining:    0.0s\n"
     ]
    },
    {
     "name": "stdout",
     "output_type": "stream",
     "text": [
      "[CV]  criterion=entropy, max_depth=125, n_estimators=50, score=0.800, total=   0.2s\n",
      "[CV] criterion=entropy, max_depth=125, n_estimators=50 ...............\n",
      "[CV]  criterion=entropy, max_depth=125, n_estimators=50, score=0.819, total=   0.3s\n",
      "[CV] criterion=entropy, max_depth=125, n_estimators=50 ...............\n",
      "[CV]  criterion=entropy, max_depth=125, n_estimators=50, score=0.796, total=   0.3s\n",
      "[CV] criterion=entropy, max_depth=125, n_estimators=100 ..............\n",
      "[CV]  criterion=entropy, max_depth=125, n_estimators=100, score=0.811, total=   0.6s\n",
      "[CV] criterion=entropy, max_depth=125, n_estimators=100 ..............\n",
      "[CV]  criterion=entropy, max_depth=125, n_estimators=100, score=0.819, total=   0.5s\n",
      "[CV] criterion=entropy, max_depth=125, n_estimators=100 ..............\n",
      "[CV]  criterion=entropy, max_depth=125, n_estimators=100, score=0.808, total=   0.5s\n",
      "[CV] criterion=entropy, max_depth=125, n_estimators=100 ..............\n",
      "[CV]  criterion=entropy, max_depth=125, n_estimators=100, score=0.811, total=   0.5s\n",
      "[CV] criterion=entropy, max_depth=125, n_estimators=100 ..............\n",
      "[CV]  criterion=entropy, max_depth=125, n_estimators=100, score=0.790, total=   0.5s\n",
      "[CV] criterion=entropy, max_depth=125, n_estimators=250 ..............\n",
      "[CV]  criterion=entropy, max_depth=125, n_estimators=250, score=0.807, total=   1.3s\n",
      "[CV] criterion=entropy, max_depth=125, n_estimators=250 ..............\n",
      "[CV]  criterion=entropy, max_depth=125, n_estimators=250, score=0.826, total=   1.2s\n",
      "[CV] criterion=entropy, max_depth=125, n_estimators=250 ..............\n",
      "[CV]  criterion=entropy, max_depth=125, n_estimators=250, score=0.815, total=   1.2s\n",
      "[CV] criterion=entropy, max_depth=125, n_estimators=250 ..............\n",
      "[CV]  criterion=entropy, max_depth=125, n_estimators=250, score=0.816, total=   1.1s\n",
      "[CV] criterion=entropy, max_depth=125, n_estimators=250 ..............\n",
      "[CV]  criterion=entropy, max_depth=125, n_estimators=250, score=0.794, total=   1.2s\n",
      "[CV] criterion=entropy, max_depth=125, n_estimators=500 ..............\n",
      "[CV]  criterion=entropy, max_depth=125, n_estimators=500, score=0.805, total=   2.3s\n",
      "[CV] criterion=entropy, max_depth=125, n_estimators=500 ..............\n",
      "[CV]  criterion=entropy, max_depth=125, n_estimators=500, score=0.816, total=   2.4s\n",
      "[CV] criterion=entropy, max_depth=125, n_estimators=500 ..............\n",
      "[CV]  criterion=entropy, max_depth=125, n_estimators=500, score=0.814, total=   2.4s\n",
      "[CV] criterion=entropy, max_depth=125, n_estimators=500 ..............\n",
      "[CV]  criterion=entropy, max_depth=125, n_estimators=500, score=0.812, total=   2.3s\n",
      "[CV] criterion=entropy, max_depth=125, n_estimators=500 ..............\n",
      "[CV]  criterion=entropy, max_depth=125, n_estimators=500, score=0.797, total=   2.5s\n",
      "[CV] criterion=entropy, max_depth=150, n_estimators=50 ...............\n",
      "[CV]  criterion=entropy, max_depth=150, n_estimators=50, score=0.803, total=   0.2s\n",
      "[CV] criterion=entropy, max_depth=150, n_estimators=50 ...............\n",
      "[CV]  criterion=entropy, max_depth=150, n_estimators=50, score=0.822, total=   0.2s\n",
      "[CV] criterion=entropy, max_depth=150, n_estimators=50 ...............\n",
      "[CV]  criterion=entropy, max_depth=150, n_estimators=50, score=0.811, total=   0.2s\n",
      "[CV] criterion=entropy, max_depth=150, n_estimators=50 ...............\n",
      "[CV]  criterion=entropy, max_depth=150, n_estimators=50, score=0.811, total=   0.2s\n",
      "[CV] criterion=entropy, max_depth=150, n_estimators=50 ...............\n",
      "[CV]  criterion=entropy, max_depth=150, n_estimators=50, score=0.808, total=   0.3s\n",
      "[CV] criterion=entropy, max_depth=150, n_estimators=100 ..............\n",
      "[CV]  criterion=entropy, max_depth=150, n_estimators=100, score=0.799, total=   0.4s\n",
      "[CV] criterion=entropy, max_depth=150, n_estimators=100 ..............\n",
      "[CV]  criterion=entropy, max_depth=150, n_estimators=100, score=0.823, total=   0.5s\n",
      "[CV] criterion=entropy, max_depth=150, n_estimators=100 ..............\n",
      "[CV]  criterion=entropy, max_depth=150, n_estimators=100, score=0.819, total=   0.4s\n",
      "[CV] criterion=entropy, max_depth=150, n_estimators=100 ..............\n",
      "[CV]  criterion=entropy, max_depth=150, n_estimators=100, score=0.811, total=   0.5s\n",
      "[CV] criterion=entropy, max_depth=150, n_estimators=100 ..............\n",
      "[CV]  criterion=entropy, max_depth=150, n_estimators=100, score=0.807, total=   0.5s\n",
      "[CV] criterion=entropy, max_depth=150, n_estimators=250 ..............\n",
      "[CV]  criterion=entropy, max_depth=150, n_estimators=250, score=0.808, total=   1.2s\n",
      "[CV] criterion=entropy, max_depth=150, n_estimators=250 ..............\n",
      "[CV]  criterion=entropy, max_depth=150, n_estimators=250, score=0.824, total=   1.2s\n",
      "[CV] criterion=entropy, max_depth=150, n_estimators=250 ..............\n",
      "[CV]  criterion=entropy, max_depth=150, n_estimators=250, score=0.812, total=   1.1s\n",
      "[CV] criterion=entropy, max_depth=150, n_estimators=250 ..............\n",
      "[CV]  criterion=entropy, max_depth=150, n_estimators=250, score=0.809, total=   1.2s\n",
      "[CV] criterion=entropy, max_depth=150, n_estimators=250 ..............\n",
      "[CV]  criterion=entropy, max_depth=150, n_estimators=250, score=0.793, total=   1.2s\n",
      "[CV] criterion=entropy, max_depth=150, n_estimators=500 ..............\n",
      "[CV]  criterion=entropy, max_depth=150, n_estimators=500, score=0.810, total=   2.3s\n",
      "[CV] criterion=entropy, max_depth=150, n_estimators=500 ..............\n",
      "[CV]  criterion=entropy, max_depth=150, n_estimators=500, score=0.827, total=   2.3s\n",
      "[CV] criterion=entropy, max_depth=150, n_estimators=500 ..............\n",
      "[CV]  criterion=entropy, max_depth=150, n_estimators=500, score=0.815, total=   2.3s\n",
      "[CV] criterion=entropy, max_depth=150, n_estimators=500 ..............\n",
      "[CV]  criterion=entropy, max_depth=150, n_estimators=500, score=0.811, total=   2.4s\n",
      "[CV] criterion=entropy, max_depth=150, n_estimators=500 ..............\n",
      "[CV]  criterion=entropy, max_depth=150, n_estimators=500, score=0.796, total=   2.4s\n",
      "[CV] criterion=entropy, max_depth=175, n_estimators=50 ...............\n",
      "[CV]  criterion=entropy, max_depth=175, n_estimators=50, score=0.810, total=   0.2s\n",
      "[CV] criterion=entropy, max_depth=175, n_estimators=50 ...............\n",
      "[CV]  criterion=entropy, max_depth=175, n_estimators=50, score=0.819, total=   0.3s\n",
      "[CV] criterion=entropy, max_depth=175, n_estimators=50 ...............\n",
      "[CV]  criterion=entropy, max_depth=175, n_estimators=50, score=0.814, total=   0.3s\n",
      "[CV] criterion=entropy, max_depth=175, n_estimators=50 ...............\n",
      "[CV]  criterion=entropy, max_depth=175, n_estimators=50, score=0.802, total=   0.2s\n",
      "[CV] criterion=entropy, max_depth=175, n_estimators=50 ...............\n",
      "[CV]  criterion=entropy, max_depth=175, n_estimators=50, score=0.794, total=   0.3s\n",
      "[CV] criterion=entropy, max_depth=175, n_estimators=100 ..............\n",
      "[CV]  criterion=entropy, max_depth=175, n_estimators=100, score=0.807, total=   0.5s\n",
      "[CV] criterion=entropy, max_depth=175, n_estimators=100 ..............\n",
      "[CV]  criterion=entropy, max_depth=175, n_estimators=100, score=0.822, total=   0.5s\n",
      "[CV] criterion=entropy, max_depth=175, n_estimators=100 ..............\n",
      "[CV]  criterion=entropy, max_depth=175, n_estimators=100, score=0.816, total=   0.5s\n",
      "[CV] criterion=entropy, max_depth=175, n_estimators=100 ..............\n",
      "[CV]  criterion=entropy, max_depth=175, n_estimators=100, score=0.808, total=   0.5s\n",
      "[CV] criterion=entropy, max_depth=175, n_estimators=100 ..............\n",
      "[CV]  criterion=entropy, max_depth=175, n_estimators=100, score=0.796, total=   0.5s\n",
      "[CV] criterion=entropy, max_depth=175, n_estimators=250 ..............\n",
      "[CV]  criterion=entropy, max_depth=175, n_estimators=250, score=0.811, total=   1.1s\n",
      "[CV] criterion=entropy, max_depth=175, n_estimators=250 ..............\n",
      "[CV]  criterion=entropy, max_depth=175, n_estimators=250, score=0.819, total=   1.1s\n",
      "[CV] criterion=entropy, max_depth=175, n_estimators=250 ..............\n",
      "[CV]  criterion=entropy, max_depth=175, n_estimators=250, score=0.820, total=   1.2s\n",
      "[CV] criterion=entropy, max_depth=175, n_estimators=250 ..............\n",
      "[CV]  criterion=entropy, max_depth=175, n_estimators=250, score=0.807, total=   1.2s\n",
      "[CV] criterion=entropy, max_depth=175, n_estimators=250 ..............\n",
      "[CV]  criterion=entropy, max_depth=175, n_estimators=250, score=0.796, total=   1.2s\n",
      "[CV] criterion=entropy, max_depth=175, n_estimators=500 ..............\n"
     ]
    },
    {
     "name": "stdout",
     "output_type": "stream",
     "text": [
      "[CV]  criterion=entropy, max_depth=175, n_estimators=500, score=0.805, total=   2.4s\n",
      "[CV] criterion=entropy, max_depth=175, n_estimators=500 ..............\n",
      "[CV]  criterion=entropy, max_depth=175, n_estimators=500, score=0.824, total=   2.3s\n",
      "[CV] criterion=entropy, max_depth=175, n_estimators=500 ..............\n",
      "[CV]  criterion=entropy, max_depth=175, n_estimators=500, score=0.812, total=   2.6s\n",
      "[CV] criterion=entropy, max_depth=175, n_estimators=500 ..............\n",
      "[CV]  criterion=entropy, max_depth=175, n_estimators=500, score=0.815, total=   3.0s\n",
      "[CV] criterion=entropy, max_depth=175, n_estimators=500 ..............\n",
      "[CV]  criterion=entropy, max_depth=175, n_estimators=500, score=0.804, total=   2.9s\n",
      "[CV] criterion=gini, max_depth=125, n_estimators=50 ..................\n",
      "[CV]  criterion=gini, max_depth=125, n_estimators=50, score=0.816, total=   0.3s\n",
      "[CV] criterion=gini, max_depth=125, n_estimators=50 ..................\n",
      "[CV]  criterion=gini, max_depth=125, n_estimators=50, score=0.839, total=   0.3s\n",
      "[CV] criterion=gini, max_depth=125, n_estimators=50 ..................\n",
      "[CV]  criterion=gini, max_depth=125, n_estimators=50, score=0.815, total=   0.2s\n",
      "[CV] criterion=gini, max_depth=125, n_estimators=50 ..................\n",
      "[CV]  criterion=gini, max_depth=125, n_estimators=50, score=0.807, total=   0.3s\n",
      "[CV] criterion=gini, max_depth=125, n_estimators=50 ..................\n",
      "[CV]  criterion=gini, max_depth=125, n_estimators=50, score=0.798, total=   0.3s\n",
      "[CV] criterion=gini, max_depth=125, n_estimators=100 .................\n",
      "[CV]  criterion=gini, max_depth=125, n_estimators=100, score=0.803, total=   0.5s\n",
      "[CV] criterion=gini, max_depth=125, n_estimators=100 .................\n",
      "[CV]  criterion=gini, max_depth=125, n_estimators=100, score=0.824, total=   0.5s\n",
      "[CV] criterion=gini, max_depth=125, n_estimators=100 .................\n",
      "[CV]  criterion=gini, max_depth=125, n_estimators=100, score=0.810, total=   0.5s\n",
      "[CV] criterion=gini, max_depth=125, n_estimators=100 .................\n",
      "[CV]  criterion=gini, max_depth=125, n_estimators=100, score=0.804, total=   0.5s\n",
      "[CV] criterion=gini, max_depth=125, n_estimators=100 .................\n",
      "[CV]  criterion=gini, max_depth=125, n_estimators=100, score=0.800, total=   0.5s\n",
      "[CV] criterion=gini, max_depth=125, n_estimators=250 .................\n",
      "[CV]  criterion=gini, max_depth=125, n_estimators=250, score=0.801, total=   1.3s\n",
      "[CV] criterion=gini, max_depth=125, n_estimators=250 .................\n",
      "[CV]  criterion=gini, max_depth=125, n_estimators=250, score=0.833, total=   1.5s\n",
      "[CV] criterion=gini, max_depth=125, n_estimators=250 .................\n",
      "[CV]  criterion=gini, max_depth=125, n_estimators=250, score=0.816, total=   1.5s\n",
      "[CV] criterion=gini, max_depth=125, n_estimators=250 .................\n",
      "[CV]  criterion=gini, max_depth=125, n_estimators=250, score=0.811, total=   1.6s\n",
      "[CV] criterion=gini, max_depth=125, n_estimators=250 .................\n",
      "[CV]  criterion=gini, max_depth=125, n_estimators=250, score=0.800, total=   1.5s\n",
      "[CV] criterion=gini, max_depth=125, n_estimators=500 .................\n",
      "[CV]  criterion=gini, max_depth=125, n_estimators=500, score=0.804, total=   2.8s\n",
      "[CV] criterion=gini, max_depth=125, n_estimators=500 .................\n",
      "[CV]  criterion=gini, max_depth=125, n_estimators=500, score=0.823, total=   2.6s\n",
      "[CV] criterion=gini, max_depth=125, n_estimators=500 .................\n",
      "[CV]  criterion=gini, max_depth=125, n_estimators=500, score=0.819, total=   2.7s\n",
      "[CV] criterion=gini, max_depth=125, n_estimators=500 .................\n",
      "[CV]  criterion=gini, max_depth=125, n_estimators=500, score=0.815, total=   2.6s\n",
      "[CV] criterion=gini, max_depth=125, n_estimators=500 .................\n",
      "[CV]  criterion=gini, max_depth=125, n_estimators=500, score=0.798, total=   2.7s\n",
      "[CV] criterion=gini, max_depth=150, n_estimators=50 ..................\n",
      "[CV]  criterion=gini, max_depth=150, n_estimators=50, score=0.810, total=   0.3s\n",
      "[CV] criterion=gini, max_depth=150, n_estimators=50 ..................\n",
      "[CV]  criterion=gini, max_depth=150, n_estimators=50, score=0.829, total=   0.3s\n",
      "[CV] criterion=gini, max_depth=150, n_estimators=50 ..................\n",
      "[CV]  criterion=gini, max_depth=150, n_estimators=50, score=0.810, total=   0.3s\n",
      "[CV] criterion=gini, max_depth=150, n_estimators=50 ..................\n",
      "[CV]  criterion=gini, max_depth=150, n_estimators=50, score=0.812, total=   0.3s\n",
      "[CV] criterion=gini, max_depth=150, n_estimators=50 ..................\n",
      "[CV]  criterion=gini, max_depth=150, n_estimators=50, score=0.792, total=   0.3s\n",
      "[CV] criterion=gini, max_depth=150, n_estimators=100 .................\n",
      "[CV]  criterion=gini, max_depth=150, n_estimators=100, score=0.805, total=   0.6s\n",
      "[CV] criterion=gini, max_depth=150, n_estimators=100 .................\n",
      "[CV]  criterion=gini, max_depth=150, n_estimators=100, score=0.822, total=   0.5s\n",
      "[CV] criterion=gini, max_depth=150, n_estimators=100 .................\n",
      "[CV]  criterion=gini, max_depth=150, n_estimators=100, score=0.822, total=   0.5s\n",
      "[CV] criterion=gini, max_depth=150, n_estimators=100 .................\n",
      "[CV]  criterion=gini, max_depth=150, n_estimators=100, score=0.815, total=   0.5s\n",
      "[CV] criterion=gini, max_depth=150, n_estimators=100 .................\n",
      "[CV]  criterion=gini, max_depth=150, n_estimators=100, score=0.796, total=   0.5s\n",
      "[CV] criterion=gini, max_depth=150, n_estimators=250 .................\n",
      "[CV]  criterion=gini, max_depth=150, n_estimators=250, score=0.807, total=   1.3s\n",
      "[CV] criterion=gini, max_depth=150, n_estimators=250 .................\n",
      "[CV]  criterion=gini, max_depth=150, n_estimators=250, score=0.822, total=   1.5s\n",
      "[CV] criterion=gini, max_depth=150, n_estimators=250 .................\n",
      "[CV]  criterion=gini, max_depth=150, n_estimators=250, score=0.823, total=   1.3s\n",
      "[CV] criterion=gini, max_depth=150, n_estimators=250 .................\n",
      "[CV]  criterion=gini, max_depth=150, n_estimators=250, score=0.809, total=   1.3s\n",
      "[CV] criterion=gini, max_depth=150, n_estimators=250 .................\n",
      "[CV]  criterion=gini, max_depth=150, n_estimators=250, score=0.793, total=   1.3s\n",
      "[CV] criterion=gini, max_depth=150, n_estimators=500 .................\n",
      "[CV]  criterion=gini, max_depth=150, n_estimators=500, score=0.805, total=   2.6s\n",
      "[CV] criterion=gini, max_depth=150, n_estimators=500 .................\n",
      "[CV]  criterion=gini, max_depth=150, n_estimators=500, score=0.824, total=   2.6s\n",
      "[CV] criterion=gini, max_depth=150, n_estimators=500 .................\n",
      "[CV]  criterion=gini, max_depth=150, n_estimators=500, score=0.818, total=   2.6s\n",
      "[CV] criterion=gini, max_depth=150, n_estimators=500 .................\n",
      "[CV]  criterion=gini, max_depth=150, n_estimators=500, score=0.817, total=   2.6s\n",
      "[CV] criterion=gini, max_depth=150, n_estimators=500 .................\n",
      "[CV]  criterion=gini, max_depth=150, n_estimators=500, score=0.796, total=   2.5s\n",
      "[CV] criterion=gini, max_depth=175, n_estimators=50 ..................\n",
      "[CV]  criterion=gini, max_depth=175, n_estimators=50, score=0.807, total=   0.2s\n",
      "[CV] criterion=gini, max_depth=175, n_estimators=50 ..................\n",
      "[CV]  criterion=gini, max_depth=175, n_estimators=50, score=0.819, total=   0.2s\n",
      "[CV] criterion=gini, max_depth=175, n_estimators=50 ..................\n",
      "[CV]  criterion=gini, max_depth=175, n_estimators=50, score=0.810, total=   0.2s\n",
      "[CV] criterion=gini, max_depth=175, n_estimators=50 ..................\n",
      "[CV]  criterion=gini, max_depth=175, n_estimators=50, score=0.812, total=   0.2s\n",
      "[CV] criterion=gini, max_depth=175, n_estimators=50 ..................\n",
      "[CV]  criterion=gini, max_depth=175, n_estimators=50, score=0.805, total=   0.2s\n",
      "[CV] criterion=gini, max_depth=175, n_estimators=100 .................\n",
      "[CV]  criterion=gini, max_depth=175, n_estimators=100, score=0.810, total=   0.4s\n",
      "[CV] criterion=gini, max_depth=175, n_estimators=100 .................\n",
      "[CV]  criterion=gini, max_depth=175, n_estimators=100, score=0.824, total=   0.5s\n",
      "[CV] criterion=gini, max_depth=175, n_estimators=100 .................\n",
      "[CV]  criterion=gini, max_depth=175, n_estimators=100, score=0.824, total=   0.5s\n",
      "[CV] criterion=gini, max_depth=175, n_estimators=100 .................\n",
      "[CV]  criterion=gini, max_depth=175, n_estimators=100, score=0.813, total=   0.5s\n",
      "[CV] criterion=gini, max_depth=175, n_estimators=100 .................\n"
     ]
    },
    {
     "name": "stdout",
     "output_type": "stream",
     "text": [
      "[CV]  criterion=gini, max_depth=175, n_estimators=100, score=0.800, total=   0.5s\n",
      "[CV] criterion=gini, max_depth=175, n_estimators=250 .................\n",
      "[CV]  criterion=gini, max_depth=175, n_estimators=250, score=0.811, total=   1.0s\n",
      "[CV] criterion=gini, max_depth=175, n_estimators=250 .................\n",
      "[CV]  criterion=gini, max_depth=175, n_estimators=250, score=0.819, total=   1.0s\n",
      "[CV] criterion=gini, max_depth=175, n_estimators=250 .................\n",
      "[CV]  criterion=gini, max_depth=175, n_estimators=250, score=0.812, total=   1.0s\n",
      "[CV] criterion=gini, max_depth=175, n_estimators=250 .................\n",
      "[CV]  criterion=gini, max_depth=175, n_estimators=250, score=0.811, total=   1.2s\n",
      "[CV] criterion=gini, max_depth=175, n_estimators=250 .................\n",
      "[CV]  criterion=gini, max_depth=175, n_estimators=250, score=0.792, total=   1.0s\n",
      "[CV] criterion=gini, max_depth=175, n_estimators=500 .................\n",
      "[CV]  criterion=gini, max_depth=175, n_estimators=500, score=0.803, total=   2.0s\n",
      "[CV] criterion=gini, max_depth=175, n_estimators=500 .................\n",
      "[CV]  criterion=gini, max_depth=175, n_estimators=500, score=0.826, total=   2.1s\n",
      "[CV] criterion=gini, max_depth=175, n_estimators=500 .................\n",
      "[CV]  criterion=gini, max_depth=175, n_estimators=500, score=0.815, total=   2.0s\n",
      "[CV] criterion=gini, max_depth=175, n_estimators=500 .................\n",
      "[CV]  criterion=gini, max_depth=175, n_estimators=500, score=0.811, total=   2.0s\n",
      "[CV] criterion=gini, max_depth=175, n_estimators=500 .................\n",
      "[CV]  criterion=gini, max_depth=175, n_estimators=500, score=0.797, total=   1.9s\n"
     ]
    },
    {
     "name": "stderr",
     "output_type": "stream",
     "text": [
      "[Parallel(n_jobs=1)]: Done 120 out of 120 | elapsed:  2.2min finished\n"
     ]
    },
    {
     "data": {
      "text/plain": [
       "GridSearchCV(estimator=RandomForestClassifier(n_estimators=200),\n",
       "             param_grid={'criterion': ['entropy', 'gini'],\n",
       "                         'max_depth': [125, 150, 175],\n",
       "                         'n_estimators': [50, 100, 250, 500]},\n",
       "             verbose=3)"
      ]
     },
     "execution_count": 21,
     "metadata": {},
     "output_type": "execute_result"
    }
   ],
   "source": [
    "grid.fit(X_train_scaled2, y_train2)"
   ]
  },
  {
   "cell_type": "code",
   "execution_count": 22,
   "id": "random-taiwan",
   "metadata": {},
   "outputs": [
    {
     "name": "stdout",
     "output_type": "stream",
     "text": [
      "{'criterion': 'gini', 'max_depth': 125, 'n_estimators': 50}\n",
      "0.8151305862944633\n"
     ]
    }
   ],
   "source": [
    "print(grid.best_params_)\n",
    "print(grid.best_score_)"
   ]
  },
  {
   "cell_type": "code",
   "execution_count": 24,
   "id": "primary-nirvana",
   "metadata": {},
   "outputs": [],
   "source": [
    "rf3 = RandomForestClassifier(criterion= 'gini', max_depth= 125, n_estimators=50)"
   ]
  },
  {
   "cell_type": "code",
   "execution_count": 25,
   "id": "dominican-blanket",
   "metadata": {},
   "outputs": [
    {
     "data": {
      "text/plain": [
       "RandomForestClassifier(max_depth=125, n_estimators=50)"
      ]
     },
     "execution_count": 25,
     "metadata": {},
     "output_type": "execute_result"
    }
   ],
   "source": [
    "rf3.fit(X_train_scaled2, y_train2)"
   ]
  },
  {
   "cell_type": "code",
   "execution_count": 29,
   "id": "functional-greece",
   "metadata": {},
   "outputs": [
    {
     "name": "stdout",
     "output_type": "stream",
     "text": [
      "Training Data Score: 0.999455485978764\n",
      "Testing Data Score: 0.8163265306122449\n"
     ]
    }
   ],
   "source": [
    "print(f\"Training Data Score: {rf3.score(X_train_scaled2, y_train2)}\")\n",
    "print(f\"Testing Data Score: {rf3.score(X_test_scaled2, y_test2)}\")"
   ]
  },
  {
   "cell_type": "code",
   "execution_count": 27,
   "id": "statewide-summary",
   "metadata": {},
   "outputs": [
    {
     "name": "stdout",
     "output_type": "stream",
     "text": [
      "[1 1 1 ... 1 1 1]\n",
      "[0 1]\n"
     ]
    }
   ],
   "source": [
    "predictions = rf3.predict(X_test_scaled2)\n",
    "print(predictions)\n",
    "print(rf3.classes_)"
   ]
  },
  {
   "cell_type": "code",
   "execution_count": 28,
   "id": "transsexual-explorer",
   "metadata": {},
   "outputs": [
    {
     "name": "stdout",
     "output_type": "stream",
     "text": [
      "              precision    recall  f1-score   support\n",
      "\n",
      "           0       0.74      0.68      0.70       397\n",
      "           1       0.85      0.88      0.87       828\n",
      "\n",
      "    accuracy                           0.82      1225\n",
      "   macro avg       0.79      0.78      0.79      1225\n",
      "weighted avg       0.81      0.82      0.81      1225\n",
      "\n"
     ]
    }
   ],
   "source": [
    "print(classification_report(y_test, predictions))"
   ]
  },
  {
   "cell_type": "code",
   "execution_count": null,
   "id": "informed-handbook",
   "metadata": {},
   "outputs": [],
   "source": []
  }
 ],
 "metadata": {
  "kernelspec": {
   "display_name": "Python [conda env:PythonAdv] *",
   "language": "python",
   "name": "conda-env-PythonAdv-py"
  },
  "language_info": {
   "codemirror_mode": {
    "name": "ipython",
    "version": 3
   },
   "file_extension": ".py",
   "mimetype": "text/x-python",
   "name": "python",
   "nbconvert_exporter": "python",
   "pygments_lexer": "ipython3",
   "version": "3.6.12"
  }
 },
 "nbformat": 4,
 "nbformat_minor": 5
}
