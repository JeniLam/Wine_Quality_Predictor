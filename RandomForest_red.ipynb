{
 "cells": [
  {
   "cell_type": "code",
   "execution_count": 1,
   "id": "silent-township",
   "metadata": {},
   "outputs": [],
   "source": [
    "# Import Dependencies\n",
    "import pandas as pd\n",
    "import numpy as np\n",
    "\n",
    "import matplotlib.pyplot as plt\n",
    "\n",
    "from sklearn.model_selection import train_test_split\n",
    "from sklearn.preprocessing import StandardScaler\n",
    "\n",
    "from sklearn.ensemble import RandomForestClassifier"
   ]
  },
  {
   "cell_type": "code",
   "execution_count": 2,
   "id": "presidential-princess",
   "metadata": {},
   "outputs": [],
   "source": [
    "# Load Dataset\n",
    "dataset = pd.read_csv(\"winequality-red.csv\", sep=\";\")\n",
    "dataset['target'] = np.where(dataset['quality']<=5,0,1)\n",
    "\n",
    "# Assign X and y\n",
    "X = dataset.drop([\"quality\", \"target\"], axis=1)\n",
    "y= dataset.target\n",
    "X_train, X_test, y_train, y_test = train_test_split(X, y, random_state=42)"
   ]
  },
  {
   "cell_type": "code",
   "execution_count": 3,
   "id": "enhanced-fifty",
   "metadata": {},
   "outputs": [],
   "source": [
    "# Standard Scaler"
   ]
  },
  {
   "cell_type": "code",
   "execution_count": 4,
   "id": "therapeutic-moderator",
   "metadata": {},
   "outputs": [
    {
     "data": {
      "text/html": [
       "<div>\n",
       "<style scoped>\n",
       "    .dataframe tbody tr th:only-of-type {\n",
       "        vertical-align: middle;\n",
       "    }\n",
       "\n",
       "    .dataframe tbody tr th {\n",
       "        vertical-align: top;\n",
       "    }\n",
       "\n",
       "    .dataframe thead th {\n",
       "        text-align: right;\n",
       "    }\n",
       "</style>\n",
       "<table border=\"1\" class=\"dataframe\">\n",
       "  <thead>\n",
       "    <tr style=\"text-align: right;\">\n",
       "      <th></th>\n",
       "      <th>importance</th>\n",
       "    </tr>\n",
       "  </thead>\n",
       "  <tbody>\n",
       "    <tr>\n",
       "      <th>alcohol</th>\n",
       "      <td>0.197253</td>\n",
       "    </tr>\n",
       "    <tr>\n",
       "      <th>sulphates</th>\n",
       "      <td>0.128814</td>\n",
       "    </tr>\n",
       "    <tr>\n",
       "      <th>volatile acidity</th>\n",
       "      <td>0.106487</td>\n",
       "    </tr>\n",
       "    <tr>\n",
       "      <th>total sulfur dioxide</th>\n",
       "      <td>0.101907</td>\n",
       "    </tr>\n",
       "    <tr>\n",
       "      <th>density</th>\n",
       "      <td>0.091352</td>\n",
       "    </tr>\n",
       "    <tr>\n",
       "      <th>chlorides</th>\n",
       "      <td>0.074006</td>\n",
       "    </tr>\n",
       "    <tr>\n",
       "      <th>pH</th>\n",
       "      <td>0.063391</td>\n",
       "    </tr>\n",
       "    <tr>\n",
       "      <th>fixed acidity</th>\n",
       "      <td>0.063324</td>\n",
       "    </tr>\n",
       "    <tr>\n",
       "      <th>citric acid</th>\n",
       "      <td>0.061997</td>\n",
       "    </tr>\n",
       "    <tr>\n",
       "      <th>free sulfur dioxide</th>\n",
       "      <td>0.057015</td>\n",
       "    </tr>\n",
       "    <tr>\n",
       "      <th>residual sugar</th>\n",
       "      <td>0.054455</td>\n",
       "    </tr>\n",
       "  </tbody>\n",
       "</table>\n",
       "</div>"
      ],
      "text/plain": [
       "                      importance\n",
       "alcohol                 0.197253\n",
       "sulphates               0.128814\n",
       "volatile acidity        0.106487\n",
       "total sulfur dioxide    0.101907\n",
       "density                 0.091352\n",
       "chlorides               0.074006\n",
       "pH                      0.063391\n",
       "fixed acidity           0.063324\n",
       "citric acid             0.061997\n",
       "free sulfur dioxide     0.057015\n",
       "residual sugar          0.054455"
      ]
     },
     "execution_count": 4,
     "metadata": {},
     "output_type": "execute_result"
    }
   ],
   "source": [
    "# Pre-processing Standard Scaler\n",
    "X_scaler= StandardScaler().fit(X_train)\n",
    "X_train_scaled = X_scaler.transform(X_train)\n",
    "X_test_scaled = X_scaler.transform(X_test)\n",
    "\n",
    "# Create a random forest classifier\n",
    "rf = RandomForestClassifier()\n",
    "rf = rf.fit(X_train_scaled, y_train)\n",
    "rf.score(X_train_scaled, y_train)\n",
    "\n",
    "# Random Forests in sklearn will automatically calculate feature importance\n",
    "importances = rf.feature_importances_\n",
    "\n",
    "# List Feature Importances, sorted\n",
    "feature_importances = pd.DataFrame(rf.feature_importances_,  index = X_train.columns, columns = ['importance']).sort_values('importance', ascending=False)\n",
    "feature_importances"
   ]
  },
  {
   "cell_type": "code",
   "execution_count": 5,
   "id": "overall-burns",
   "metadata": {},
   "outputs": [
    {
     "name": "stdout",
     "output_type": "stream",
     "text": [
      "[0 0 0 0 1 0 0 0 1 1 1 0 1 0 0 1 0 1 1 0 0 1 0 1 1 1 1 0 0 1 0 0 1 1 0 0 1\n",
      " 1 0 1 0 0 1 0 1 1 1 1 0 1 0 0 1 1 0 0 1 1 1 0 1 1 1 0 1 0 1 1 1 0 1 0 1 1\n",
      " 1 0 1 0 1 1 0 1 0 1 1 1 0 1 1 0 1 1 0 0 0 0 0 1 0 0 0 0 1 1 1 1 1 0 1 0 1\n",
      " 0 1 0 0 1 1 0 0 1 1 1 1 0 1 0 1 0 0 1 1 0 0 1 1 0 0 0 0 1 1 1 1 0 1 0 1 1\n",
      " 1 0 1 1 0 0 1 0 1 1 0 1 1 1 1 0 0 1 1 0 0 0 0 0 1 0 1 1 1 0 0 0 0 1 0 1 0\n",
      " 1 1 1 1 0 0 1 0 1 1 0 0 1 0 1 0 0 0 0 1 0 0 1 1 1 1 0 0 1 1 1 1 0 1 1 1 1\n",
      " 1 1 0 0 0 1 0 0 0 0 1 1 0 1 0 1 1 0 0 0 1 1 0 1 1 1 1 0 1 1 0 1 0 0 0 1 1\n",
      " 1 1 1 0 1 1 1 1 0 1 1 0 1 0 1 1 0 1 1 1 1 1 0 0 0 0 1 0 1 0 1 0 1 1 0 0 1\n",
      " 0 1 1 1 0 0 1 0 1 0 1 1 1 1 1 0 1 0 1 1 0 0 1 0 1 1 1 0 0 0 1 1 0 1 1 1 0\n",
      " 1 1 0 1 1 0 0 1 1 0 0 1 0 1 0 1 1 1 1 0 1 1 1 0 0 1 0 1 1 0 1 0 1 1 0 0 0\n",
      " 0 0 1 0 1 1 1 1 0 1 0 1 1 1 1 1 1 0 0 1 0 0 0 1 1 1 1 0 0 1]\n",
      "[0 1]\n"
     ]
    }
   ],
   "source": [
    "predictions = rf.predict(X_test_scaled)\n",
    "print(predictions)\n",
    "print(rf.classes_)"
   ]
  },
  {
   "cell_type": "code",
   "execution_count": 6,
   "id": "explicit-multimedia",
   "metadata": {},
   "outputs": [
    {
     "name": "stdout",
     "output_type": "stream",
     "text": [
      "Training Data Score: 1.0\n",
      "Testing Data Score: 0.8075\n"
     ]
    }
   ],
   "source": [
    "print(f\"Training Data Score: {rf.score(X_train_scaled, y_train)}\")\n",
    "print(f\"Testing Data Score: {rf.score(X_test_scaled, y_test)}\")"
   ]
  },
  {
   "cell_type": "code",
   "execution_count": 8,
   "id": "attractive-seven",
   "metadata": {},
   "outputs": [],
   "source": [
    "from sklearn.metrics import classification_report"
   ]
  },
  {
   "cell_type": "code",
   "execution_count": 9,
   "id": "statistical-poultry",
   "metadata": {},
   "outputs": [
    {
     "name": "stdout",
     "output_type": "stream",
     "text": [
      "              precision    recall  f1-score   support\n",
      "\n",
      "           0       0.79      0.78      0.78       178\n",
      "           1       0.83      0.83      0.83       222\n",
      "\n",
      "    accuracy                           0.81       400\n",
      "   macro avg       0.81      0.80      0.81       400\n",
      "weighted avg       0.81      0.81      0.81       400\n",
      "\n"
     ]
    }
   ],
   "source": [
    "print(classification_report(y_test, predictions, zero_division=0))"
   ]
  },
  {
   "cell_type": "code",
   "execution_count": 10,
   "id": "numerous-armstrong",
   "metadata": {},
   "outputs": [],
   "source": [
    "# picked top 5 based on feature importance"
   ]
  },
  {
   "cell_type": "code",
   "execution_count": 11,
   "id": "eight-commander",
   "metadata": {},
   "outputs": [],
   "source": [
    "X2 = dataset.drop([\"quality\", \"target\", 'chlorides', 'residual sugar', 'citric acid', 'pH', 'free sulfur dioxide', 'fixed acidity'], axis=1)\n",
    "y2= dataset.target\n",
    "X_train2, X_test2, y_train2, y_test2 = train_test_split(X2, y2, random_state=42)"
   ]
  },
  {
   "cell_type": "code",
   "execution_count": 12,
   "id": "automotive-insert",
   "metadata": {},
   "outputs": [],
   "source": [
    "from sklearn.model_selection import GridSearchCV"
   ]
  },
  {
   "cell_type": "code",
   "execution_count": 15,
   "id": "conceptual-moore",
   "metadata": {},
   "outputs": [],
   "source": [
    "# Pre-processing PowerTransformer Scaler\n",
    "X_scaler2= StandardScaler().fit(X_train2)\n",
    "X_train_scaled2 = X_scaler2.transform(X_train2)\n",
    "X_test_scaled2 = X_scaler2.transform(X_test2)\n",
    "\n",
    "# Create a random forest classifier\n",
    "rf2 = RandomForestClassifier()\n",
    "\n",
    "param_grid = {'n_estimators':[50, 100, 250, 500],\n",
    "              'criterion': ['entropy', 'gini'],\n",
    "              'max_depth': [125, 150, 175]}\n",
    "\n",
    "grid = GridSearchCV(rf2, param_grid, verbose =3)"
   ]
  },
  {
   "cell_type": "code",
   "execution_count": 16,
   "id": "interpreted-contractor",
   "metadata": {},
   "outputs": [
    {
     "name": "stderr",
     "output_type": "stream",
     "text": [
      "[Parallel(n_jobs=1)]: Using backend SequentialBackend with 1 concurrent workers.\n",
      "[Parallel(n_jobs=1)]: Done   1 out of   1 | elapsed:    0.0s remaining:    0.0s\n"
     ]
    },
    {
     "name": "stdout",
     "output_type": "stream",
     "text": [
      "Fitting 5 folds for each of 24 candidates, totalling 120 fits\n",
      "[CV] criterion=entropy, max_depth=125, n_estimators=50 ...............\n",
      "[CV]  criterion=entropy, max_depth=125, n_estimators=50, score=0.779, total=   0.1s\n",
      "[CV] criterion=entropy, max_depth=125, n_estimators=50 ...............\n",
      "[CV]  criterion=entropy, max_depth=125, n_estimators=50, score=0.754, total=   0.2s\n",
      "[CV] criterion=entropy, max_depth=125, n_estimators=50 ...............\n",
      "[CV]  criterion=entropy, max_depth=125, n_estimators=50, score=0.825, total=   0.1s\n",
      "[CV] criterion=entropy, max_depth=125, n_estimators=50 ...............\n"
     ]
    },
    {
     "name": "stderr",
     "output_type": "stream",
     "text": [
      "[Parallel(n_jobs=1)]: Done   2 out of   2 | elapsed:    0.2s remaining:    0.0s\n"
     ]
    },
    {
     "name": "stdout",
     "output_type": "stream",
     "text": [
      "[CV]  criterion=entropy, max_depth=125, n_estimators=50, score=0.787, total=   0.1s\n",
      "[CV] criterion=entropy, max_depth=125, n_estimators=50 ...............\n",
      "[CV]  criterion=entropy, max_depth=125, n_estimators=50, score=0.862, total=   0.1s\n",
      "[CV] criterion=entropy, max_depth=125, n_estimators=100 ..............\n",
      "[CV]  criterion=entropy, max_depth=125, n_estimators=100, score=0.787, total=   0.3s\n",
      "[CV] criterion=entropy, max_depth=125, n_estimators=100 ..............\n",
      "[CV]  criterion=entropy, max_depth=125, n_estimators=100, score=0.729, total=   0.3s\n",
      "[CV] criterion=entropy, max_depth=125, n_estimators=100 ..............\n",
      "[CV]  criterion=entropy, max_depth=125, n_estimators=100, score=0.825, total=   0.2s\n",
      "[CV] criterion=entropy, max_depth=125, n_estimators=100 ..............\n",
      "[CV]  criterion=entropy, max_depth=125, n_estimators=100, score=0.812, total=   0.3s\n",
      "[CV] criterion=entropy, max_depth=125, n_estimators=100 ..............\n",
      "[CV]  criterion=entropy, max_depth=125, n_estimators=100, score=0.854, total=   0.3s\n",
      "[CV] criterion=entropy, max_depth=125, n_estimators=250 ..............\n",
      "[CV]  criterion=entropy, max_depth=125, n_estimators=250, score=0.792, total=   0.7s\n",
      "[CV] criterion=entropy, max_depth=125, n_estimators=250 ..............\n",
      "[CV]  criterion=entropy, max_depth=125, n_estimators=250, score=0.742, total=   0.6s\n",
      "[CV] criterion=entropy, max_depth=125, n_estimators=250 ..............\n",
      "[CV]  criterion=entropy, max_depth=125, n_estimators=250, score=0.833, total=   0.6s\n",
      "[CV] criterion=entropy, max_depth=125, n_estimators=250 ..............\n",
      "[CV]  criterion=entropy, max_depth=125, n_estimators=250, score=0.808, total=   0.6s\n",
      "[CV] criterion=entropy, max_depth=125, n_estimators=250 ..............\n",
      "[CV]  criterion=entropy, max_depth=125, n_estimators=250, score=0.849, total=   0.7s\n",
      "[CV] criterion=entropy, max_depth=125, n_estimators=500 ..............\n",
      "[CV]  criterion=entropy, max_depth=125, n_estimators=500, score=0.783, total=   1.3s\n",
      "[CV] criterion=entropy, max_depth=125, n_estimators=500 ..............\n",
      "[CV]  criterion=entropy, max_depth=125, n_estimators=500, score=0.738, total=   1.2s\n",
      "[CV] criterion=entropy, max_depth=125, n_estimators=500 ..............\n",
      "[CV]  criterion=entropy, max_depth=125, n_estimators=500, score=0.850, total=   1.3s\n",
      "[CV] criterion=entropy, max_depth=125, n_estimators=500 ..............\n",
      "[CV]  criterion=entropy, max_depth=125, n_estimators=500, score=0.817, total=   1.1s\n",
      "[CV] criterion=entropy, max_depth=125, n_estimators=500 ..............\n",
      "[CV]  criterion=entropy, max_depth=125, n_estimators=500, score=0.854, total=   1.1s\n",
      "[CV] criterion=entropy, max_depth=150, n_estimators=50 ...............\n",
      "[CV]  criterion=entropy, max_depth=150, n_estimators=50, score=0.812, total=   0.1s\n",
      "[CV] criterion=entropy, max_depth=150, n_estimators=50 ...............\n",
      "[CV]  criterion=entropy, max_depth=150, n_estimators=50, score=0.758, total=   0.2s\n",
      "[CV] criterion=entropy, max_depth=150, n_estimators=50 ...............\n",
      "[CV]  criterion=entropy, max_depth=150, n_estimators=50, score=0.825, total=   0.1s\n",
      "[CV] criterion=entropy, max_depth=150, n_estimators=50 ...............\n",
      "[CV]  criterion=entropy, max_depth=150, n_estimators=50, score=0.796, total=   0.1s\n",
      "[CV] criterion=entropy, max_depth=150, n_estimators=50 ...............\n",
      "[CV]  criterion=entropy, max_depth=150, n_estimators=50, score=0.841, total=   0.1s\n",
      "[CV] criterion=entropy, max_depth=150, n_estimators=100 ..............\n",
      "[CV]  criterion=entropy, max_depth=150, n_estimators=100, score=0.775, total=   0.3s\n",
      "[CV] criterion=entropy, max_depth=150, n_estimators=100 ..............\n",
      "[CV]  criterion=entropy, max_depth=150, n_estimators=100, score=0.738, total=   0.2s\n",
      "[CV] criterion=entropy, max_depth=150, n_estimators=100 ..............\n",
      "[CV]  criterion=entropy, max_depth=150, n_estimators=100, score=0.829, total=   0.3s\n",
      "[CV] criterion=entropy, max_depth=150, n_estimators=100 ..............\n",
      "[CV]  criterion=entropy, max_depth=150, n_estimators=100, score=0.817, total=   0.2s\n",
      "[CV] criterion=entropy, max_depth=150, n_estimators=100 ..............\n",
      "[CV]  criterion=entropy, max_depth=150, n_estimators=100, score=0.845, total=   0.3s\n",
      "[CV] criterion=entropy, max_depth=150, n_estimators=250 ..............\n",
      "[CV]  criterion=entropy, max_depth=150, n_estimators=250, score=0.792, total=   0.6s\n",
      "[CV] criterion=entropy, max_depth=150, n_estimators=250 ..............\n",
      "[CV]  criterion=entropy, max_depth=150, n_estimators=250, score=0.729, total=   0.6s\n",
      "[CV] criterion=entropy, max_depth=150, n_estimators=250 ..............\n",
      "[CV]  criterion=entropy, max_depth=150, n_estimators=250, score=0.829, total=   0.7s\n",
      "[CV] criterion=entropy, max_depth=150, n_estimators=250 ..............\n",
      "[CV]  criterion=entropy, max_depth=150, n_estimators=250, score=0.812, total=   0.7s\n",
      "[CV] criterion=entropy, max_depth=150, n_estimators=250 ..............\n",
      "[CV]  criterion=entropy, max_depth=150, n_estimators=250, score=0.854, total=   0.7s\n",
      "[CV] criterion=entropy, max_depth=150, n_estimators=500 ..............\n",
      "[CV]  criterion=entropy, max_depth=150, n_estimators=500, score=0.792, total=   1.1s\n",
      "[CV] criterion=entropy, max_depth=150, n_estimators=500 ..............\n",
      "[CV]  criterion=entropy, max_depth=150, n_estimators=500, score=0.738, total=   1.1s\n",
      "[CV] criterion=entropy, max_depth=150, n_estimators=500 ..............\n",
      "[CV]  criterion=entropy, max_depth=150, n_estimators=500, score=0.842, total=   1.2s\n",
      "[CV] criterion=entropy, max_depth=150, n_estimators=500 ..............\n",
      "[CV]  criterion=entropy, max_depth=150, n_estimators=500, score=0.812, total=   1.3s\n",
      "[CV] criterion=entropy, max_depth=150, n_estimators=500 ..............\n",
      "[CV]  criterion=entropy, max_depth=150, n_estimators=500, score=0.854, total=   1.3s\n",
      "[CV] criterion=entropy, max_depth=175, n_estimators=50 ...............\n",
      "[CV]  criterion=entropy, max_depth=175, n_estimators=50, score=0.796, total=   0.1s\n",
      "[CV] criterion=entropy, max_depth=175, n_estimators=50 ...............\n",
      "[CV]  criterion=entropy, max_depth=175, n_estimators=50, score=0.742, total=   0.1s\n",
      "[CV] criterion=entropy, max_depth=175, n_estimators=50 ...............\n",
      "[CV]  criterion=entropy, max_depth=175, n_estimators=50, score=0.821, total=   0.1s\n",
      "[CV] criterion=entropy, max_depth=175, n_estimators=50 ...............\n",
      "[CV]  criterion=entropy, max_depth=175, n_estimators=50, score=0.808, total=   0.2s\n",
      "[CV] criterion=entropy, max_depth=175, n_estimators=50 ...............\n",
      "[CV]  criterion=entropy, max_depth=175, n_estimators=50, score=0.854, total=   0.1s\n",
      "[CV] criterion=entropy, max_depth=175, n_estimators=100 ..............\n",
      "[CV]  criterion=entropy, max_depth=175, n_estimators=100, score=0.783, total=   0.3s\n",
      "[CV] criterion=entropy, max_depth=175, n_estimators=100 ..............\n",
      "[CV]  criterion=entropy, max_depth=175, n_estimators=100, score=0.750, total=   0.3s\n",
      "[CV] criterion=entropy, max_depth=175, n_estimators=100 ..............\n",
      "[CV]  criterion=entropy, max_depth=175, n_estimators=100, score=0.838, total=   0.2s\n",
      "[CV] criterion=entropy, max_depth=175, n_estimators=100 ..............\n",
      "[CV]  criterion=entropy, max_depth=175, n_estimators=100, score=0.783, total=   0.3s\n",
      "[CV] criterion=entropy, max_depth=175, n_estimators=100 ..............\n",
      "[CV]  criterion=entropy, max_depth=175, n_estimators=100, score=0.862, total=   0.2s\n",
      "[CV] criterion=entropy, max_depth=175, n_estimators=250 ..............\n",
      "[CV]  criterion=entropy, max_depth=175, n_estimators=250, score=0.787, total=   0.5s\n",
      "[CV] criterion=entropy, max_depth=175, n_estimators=250 ..............\n",
      "[CV]  criterion=entropy, max_depth=175, n_estimators=250, score=0.738, total=   0.7s\n",
      "[CV] criterion=entropy, max_depth=175, n_estimators=250 ..............\n",
      "[CV]  criterion=entropy, max_depth=175, n_estimators=250, score=0.842, total=   0.6s\n",
      "[CV] criterion=entropy, max_depth=175, n_estimators=250 ..............\n",
      "[CV]  criterion=entropy, max_depth=175, n_estimators=250, score=0.812, total=   0.6s\n",
      "[CV] criterion=entropy, max_depth=175, n_estimators=250 ..............\n",
      "[CV]  criterion=entropy, max_depth=175, n_estimators=250, score=0.849, total=   0.7s\n",
      "[CV] criterion=entropy, max_depth=175, n_estimators=500 ..............\n",
      "[CV]  criterion=entropy, max_depth=175, n_estimators=500, score=0.792, total=   1.3s\n",
      "[CV] criterion=entropy, max_depth=175, n_estimators=500 ..............\n"
     ]
    },
    {
     "name": "stdout",
     "output_type": "stream",
     "text": [
      "[CV]  criterion=entropy, max_depth=175, n_estimators=500, score=0.738, total=   1.2s\n",
      "[CV] criterion=entropy, max_depth=175, n_estimators=500 ..............\n",
      "[CV]  criterion=entropy, max_depth=175, n_estimators=500, score=0.825, total=   1.3s\n",
      "[CV] criterion=entropy, max_depth=175, n_estimators=500 ..............\n",
      "[CV]  criterion=entropy, max_depth=175, n_estimators=500, score=0.808, total=   1.3s\n",
      "[CV] criterion=entropy, max_depth=175, n_estimators=500 ..............\n",
      "[CV]  criterion=entropy, max_depth=175, n_estimators=500, score=0.854, total=   1.3s\n",
      "[CV] criterion=gini, max_depth=125, n_estimators=50 ..................\n",
      "[CV]  criterion=gini, max_depth=125, n_estimators=50, score=0.783, total=   0.1s\n",
      "[CV] criterion=gini, max_depth=125, n_estimators=50 ..................\n",
      "[CV]  criterion=gini, max_depth=125, n_estimators=50, score=0.758, total=   0.1s\n",
      "[CV] criterion=gini, max_depth=125, n_estimators=50 ..................\n",
      "[CV]  criterion=gini, max_depth=125, n_estimators=50, score=0.825, total=   0.1s\n",
      "[CV] criterion=gini, max_depth=125, n_estimators=50 ..................\n",
      "[CV]  criterion=gini, max_depth=125, n_estimators=50, score=0.800, total=   0.1s\n",
      "[CV] criterion=gini, max_depth=125, n_estimators=50 ..................\n",
      "[CV]  criterion=gini, max_depth=125, n_estimators=50, score=0.874, total=   0.1s\n",
      "[CV] criterion=gini, max_depth=125, n_estimators=100 .................\n",
      "[CV]  criterion=gini, max_depth=125, n_estimators=100, score=0.787, total=   0.3s\n",
      "[CV] criterion=gini, max_depth=125, n_estimators=100 .................\n",
      "[CV]  criterion=gini, max_depth=125, n_estimators=100, score=0.738, total=   0.2s\n",
      "[CV] criterion=gini, max_depth=125, n_estimators=100 .................\n",
      "[CV]  criterion=gini, max_depth=125, n_estimators=100, score=0.838, total=   0.2s\n",
      "[CV] criterion=gini, max_depth=125, n_estimators=100 .................\n",
      "[CV]  criterion=gini, max_depth=125, n_estimators=100, score=0.792, total=   0.2s\n",
      "[CV] criterion=gini, max_depth=125, n_estimators=100 .................\n",
      "[CV]  criterion=gini, max_depth=125, n_estimators=100, score=0.854, total=   0.2s\n",
      "[CV] criterion=gini, max_depth=125, n_estimators=250 .................\n",
      "[CV]  criterion=gini, max_depth=125, n_estimators=250, score=0.779, total=   0.6s\n",
      "[CV] criterion=gini, max_depth=125, n_estimators=250 .................\n",
      "[CV]  criterion=gini, max_depth=125, n_estimators=250, score=0.750, total=   0.7s\n",
      "[CV] criterion=gini, max_depth=125, n_estimators=250 .................\n",
      "[CV]  criterion=gini, max_depth=125, n_estimators=250, score=0.842, total=   0.5s\n",
      "[CV] criterion=gini, max_depth=125, n_estimators=250 .................\n",
      "[CV]  criterion=gini, max_depth=125, n_estimators=250, score=0.804, total=   0.7s\n",
      "[CV] criterion=gini, max_depth=125, n_estimators=250 .................\n",
      "[CV]  criterion=gini, max_depth=125, n_estimators=250, score=0.849, total=   0.5s\n",
      "[CV] criterion=gini, max_depth=125, n_estimators=500 .................\n",
      "[CV]  criterion=gini, max_depth=125, n_estimators=500, score=0.787, total=   1.2s\n",
      "[CV] criterion=gini, max_depth=125, n_estimators=500 .................\n",
      "[CV]  criterion=gini, max_depth=125, n_estimators=500, score=0.742, total=   1.0s\n",
      "[CV] criterion=gini, max_depth=125, n_estimators=500 .................\n",
      "[CV]  criterion=gini, max_depth=125, n_estimators=500, score=0.833, total=   1.1s\n",
      "[CV] criterion=gini, max_depth=125, n_estimators=500 .................\n",
      "[CV]  criterion=gini, max_depth=125, n_estimators=500, score=0.804, total=   1.0s\n",
      "[CV] criterion=gini, max_depth=125, n_estimators=500 .................\n",
      "[CV]  criterion=gini, max_depth=125, n_estimators=500, score=0.841, total=   1.1s\n",
      "[CV] criterion=gini, max_depth=150, n_estimators=50 ..................\n",
      "[CV]  criterion=gini, max_depth=150, n_estimators=50, score=0.787, total=   0.1s\n",
      "[CV] criterion=gini, max_depth=150, n_estimators=50 ..................\n",
      "[CV]  criterion=gini, max_depth=150, n_estimators=50, score=0.742, total=   0.1s\n",
      "[CV] criterion=gini, max_depth=150, n_estimators=50 ..................\n",
      "[CV]  criterion=gini, max_depth=150, n_estimators=50, score=0.829, total=   0.1s\n",
      "[CV] criterion=gini, max_depth=150, n_estimators=50 ..................\n",
      "[CV]  criterion=gini, max_depth=150, n_estimators=50, score=0.783, total=   0.1s\n",
      "[CV] criterion=gini, max_depth=150, n_estimators=50 ..................\n",
      "[CV]  criterion=gini, max_depth=150, n_estimators=50, score=0.854, total=   0.1s\n",
      "[CV] criterion=gini, max_depth=150, n_estimators=100 .................\n",
      "[CV]  criterion=gini, max_depth=150, n_estimators=100, score=0.775, total=   0.2s\n",
      "[CV] criterion=gini, max_depth=150, n_estimators=100 .................\n",
      "[CV]  criterion=gini, max_depth=150, n_estimators=100, score=0.742, total=   0.2s\n",
      "[CV] criterion=gini, max_depth=150, n_estimators=100 .................\n",
      "[CV]  criterion=gini, max_depth=150, n_estimators=100, score=0.833, total=   0.2s\n",
      "[CV] criterion=gini, max_depth=150, n_estimators=100 .................\n",
      "[CV]  criterion=gini, max_depth=150, n_estimators=100, score=0.800, total=   0.2s\n",
      "[CV] criterion=gini, max_depth=150, n_estimators=100 .................\n",
      "[CV]  criterion=gini, max_depth=150, n_estimators=100, score=0.845, total=   0.3s\n",
      "[CV] criterion=gini, max_depth=150, n_estimators=250 .................\n",
      "[CV]  criterion=gini, max_depth=150, n_estimators=250, score=0.787, total=   0.5s\n",
      "[CV] criterion=gini, max_depth=150, n_estimators=250 .................\n",
      "[CV]  criterion=gini, max_depth=150, n_estimators=250, score=0.754, total=   0.5s\n",
      "[CV] criterion=gini, max_depth=150, n_estimators=250 .................\n",
      "[CV]  criterion=gini, max_depth=150, n_estimators=250, score=0.833, total=   0.5s\n",
      "[CV] criterion=gini, max_depth=150, n_estimators=250 .................\n",
      "[CV]  criterion=gini, max_depth=150, n_estimators=250, score=0.804, total=   0.6s\n",
      "[CV] criterion=gini, max_depth=150, n_estimators=250 .................\n",
      "[CV]  criterion=gini, max_depth=150, n_estimators=250, score=0.854, total=   0.6s\n",
      "[CV] criterion=gini, max_depth=150, n_estimators=500 .................\n",
      "[CV]  criterion=gini, max_depth=150, n_estimators=500, score=0.787, total=   0.9s\n",
      "[CV] criterion=gini, max_depth=150, n_estimators=500 .................\n",
      "[CV]  criterion=gini, max_depth=150, n_estimators=500, score=0.742, total=   1.0s\n",
      "[CV] criterion=gini, max_depth=150, n_estimators=500 .................\n",
      "[CV]  criterion=gini, max_depth=150, n_estimators=500, score=0.825, total=   0.9s\n",
      "[CV] criterion=gini, max_depth=150, n_estimators=500 .................\n",
      "[CV]  criterion=gini, max_depth=150, n_estimators=500, score=0.804, total=   1.0s\n",
      "[CV] criterion=gini, max_depth=150, n_estimators=500 .................\n",
      "[CV]  criterion=gini, max_depth=150, n_estimators=500, score=0.862, total=   0.9s\n",
      "[CV] criterion=gini, max_depth=175, n_estimators=50 ..................\n",
      "[CV]  criterion=gini, max_depth=175, n_estimators=50, score=0.792, total=   0.1s\n",
      "[CV] criterion=gini, max_depth=175, n_estimators=50 ..................\n",
      "[CV]  criterion=gini, max_depth=175, n_estimators=50, score=0.750, total=   0.1s\n",
      "[CV] criterion=gini, max_depth=175, n_estimators=50 ..................\n",
      "[CV]  criterion=gini, max_depth=175, n_estimators=50, score=0.825, total=   0.1s\n",
      "[CV] criterion=gini, max_depth=175, n_estimators=50 ..................\n",
      "[CV]  criterion=gini, max_depth=175, n_estimators=50, score=0.800, total=   0.1s\n",
      "[CV] criterion=gini, max_depth=175, n_estimators=50 ..................\n",
      "[CV]  criterion=gini, max_depth=175, n_estimators=50, score=0.849, total=   0.1s\n",
      "[CV] criterion=gini, max_depth=175, n_estimators=100 .................\n",
      "[CV]  criterion=gini, max_depth=175, n_estimators=100, score=0.796, total=   0.2s\n",
      "[CV] criterion=gini, max_depth=175, n_estimators=100 .................\n",
      "[CV]  criterion=gini, max_depth=175, n_estimators=100, score=0.746, total=   0.2s\n",
      "[CV] criterion=gini, max_depth=175, n_estimators=100 .................\n",
      "[CV]  criterion=gini, max_depth=175, n_estimators=100, score=0.833, total=   0.2s\n",
      "[CV] criterion=gini, max_depth=175, n_estimators=100 .................\n",
      "[CV]  criterion=gini, max_depth=175, n_estimators=100, score=0.808, total=   0.2s\n",
      "[CV] criterion=gini, max_depth=175, n_estimators=100 .................\n",
      "[CV]  criterion=gini, max_depth=175, n_estimators=100, score=0.854, total=   0.3s\n",
      "[CV] criterion=gini, max_depth=175, n_estimators=250 .................\n"
     ]
    },
    {
     "name": "stdout",
     "output_type": "stream",
     "text": [
      "[CV]  criterion=gini, max_depth=175, n_estimators=250, score=0.783, total=   0.6s\n",
      "[CV] criterion=gini, max_depth=175, n_estimators=250 .................\n",
      "[CV]  criterion=gini, max_depth=175, n_estimators=250, score=0.738, total=   0.7s\n",
      "[CV] criterion=gini, max_depth=175, n_estimators=250 .................\n",
      "[CV]  criterion=gini, max_depth=175, n_estimators=250, score=0.829, total=   0.7s\n",
      "[CV] criterion=gini, max_depth=175, n_estimators=250 .................\n",
      "[CV]  criterion=gini, max_depth=175, n_estimators=250, score=0.812, total=   0.7s\n",
      "[CV] criterion=gini, max_depth=175, n_estimators=250 .................\n",
      "[CV]  criterion=gini, max_depth=175, n_estimators=250, score=0.858, total=   0.6s\n",
      "[CV] criterion=gini, max_depth=175, n_estimators=500 .................\n",
      "[CV]  criterion=gini, max_depth=175, n_estimators=500, score=0.779, total=   1.4s\n",
      "[CV] criterion=gini, max_depth=175, n_estimators=500 .................\n",
      "[CV]  criterion=gini, max_depth=175, n_estimators=500, score=0.742, total=   1.2s\n",
      "[CV] criterion=gini, max_depth=175, n_estimators=500 .................\n",
      "[CV]  criterion=gini, max_depth=175, n_estimators=500, score=0.825, total=   1.3s\n",
      "[CV] criterion=gini, max_depth=175, n_estimators=500 .................\n",
      "[CV]  criterion=gini, max_depth=175, n_estimators=500, score=0.808, total=   1.3s\n",
      "[CV] criterion=gini, max_depth=175, n_estimators=500 .................\n",
      "[CV]  criterion=gini, max_depth=175, n_estimators=500, score=0.854, total=   1.4s\n"
     ]
    },
    {
     "name": "stderr",
     "output_type": "stream",
     "text": [
      "[Parallel(n_jobs=1)]: Done 120 out of 120 | elapsed:  1.1min finished\n"
     ]
    },
    {
     "data": {
      "text/plain": [
       "GridSearchCV(estimator=RandomForestClassifier(),\n",
       "             param_grid={'criterion': ['entropy', 'gini'],\n",
       "                         'max_depth': [125, 150, 175],\n",
       "                         'n_estimators': [50, 100, 250, 500]},\n",
       "             verbose=3)"
      ]
     },
     "execution_count": 16,
     "metadata": {},
     "output_type": "execute_result"
    }
   ],
   "source": [
    "grid.fit(X_train_scaled2, y_train2)"
   ]
  },
  {
   "cell_type": "code",
   "execution_count": 17,
   "id": "classical-solid",
   "metadata": {},
   "outputs": [
    {
     "name": "stdout",
     "output_type": "stream",
     "text": [
      "{'criterion': 'gini', 'max_depth': 125, 'n_estimators': 50}\n",
      "0.8082287308228728\n"
     ]
    }
   ],
   "source": [
    "print(grid.best_params_)\n",
    "print(grid.best_score_)"
   ]
  },
  {
   "cell_type": "code",
   "execution_count": 18,
   "id": "solved-threat",
   "metadata": {},
   "outputs": [],
   "source": [
    "rf3 = RandomForestClassifier(criterion= 'gini', max_depth= 125, n_estimators=50)"
   ]
  },
  {
   "cell_type": "code",
   "execution_count": 19,
   "id": "excellent-warning",
   "metadata": {},
   "outputs": [
    {
     "data": {
      "text/plain": [
       "RandomForestClassifier(max_depth=125, n_estimators=50)"
      ]
     },
     "execution_count": 19,
     "metadata": {},
     "output_type": "execute_result"
    }
   ],
   "source": [
    "rf3.fit(X_train_scaled2, y_train2)"
   ]
  },
  {
   "cell_type": "code",
   "execution_count": 20,
   "id": "worth-withdrawal",
   "metadata": {},
   "outputs": [
    {
     "name": "stdout",
     "output_type": "stream",
     "text": [
      "Training Data Score: 0.9991659716430359\n",
      "Testing Data Score: 0.775\n"
     ]
    }
   ],
   "source": [
    "print(f\"Training Data Score: {rf3.score(X_train_scaled2, y_train2)}\")\n",
    "print(f\"Testing Data Score: {rf3.score(X_test_scaled2, y_test2)}\")"
   ]
  },
  {
   "cell_type": "code",
   "execution_count": 21,
   "id": "proud-banking",
   "metadata": {},
   "outputs": [
    {
     "name": "stdout",
     "output_type": "stream",
     "text": [
      "[0 0 1 0 1 0 0 0 1 1 1 0 1 0 0 1 0 1 1 0 0 1 0 1 0 1 1 0 0 1 0 1 1 0 1 0 1\n",
      " 1 1 1 0 0 1 0 1 1 1 1 0 1 0 0 1 1 0 0 1 1 0 0 1 1 0 0 1 0 1 1 1 0 1 0 1 1\n",
      " 1 0 1 0 1 1 0 1 0 1 1 1 0 1 1 0 1 0 1 0 0 0 0 1 0 1 0 0 1 1 1 1 1 0 1 0 1\n",
      " 0 1 0 0 1 0 0 0 1 1 1 0 0 1 0 1 0 0 1 1 0 0 1 1 0 0 0 0 1 1 1 1 0 1 0 1 1\n",
      " 1 0 1 1 0 0 1 0 1 1 0 1 1 1 1 0 1 1 1 0 0 0 0 0 1 0 1 1 1 0 1 0 0 0 0 1 0\n",
      " 1 1 1 1 0 1 1 0 1 1 0 0 1 0 1 0 0 0 0 1 0 0 1 1 1 1 0 0 1 1 0 1 0 1 0 0 1\n",
      " 1 1 1 0 0 1 0 0 0 0 1 1 0 1 0 1 1 0 1 0 0 1 1 1 0 0 1 0 1 0 0 0 1 0 1 1 1\n",
      " 1 1 1 0 1 1 1 0 0 1 1 0 1 0 1 1 1 1 1 1 1 1 0 0 0 0 1 0 1 0 1 0 1 0 0 0 1\n",
      " 0 1 1 1 0 0 1 1 1 0 1 1 0 1 0 0 1 1 0 1 0 0 1 0 1 1 1 0 0 0 1 1 0 1 1 1 0\n",
      " 1 1 0 1 1 0 0 1 1 1 0 1 0 1 0 1 1 1 1 0 1 1 1 1 0 0 0 1 0 0 1 0 1 1 0 0 0\n",
      " 0 0 1 1 1 1 1 1 0 1 0 1 1 1 1 1 1 0 0 1 0 0 0 0 1 1 1 1 0 1]\n",
      "[0 1]\n"
     ]
    }
   ],
   "source": [
    "predictions = rf3.predict(X_test_scaled2)\n",
    "print(predictions)\n",
    "print(rf3.classes_)"
   ]
  },
  {
   "cell_type": "code",
   "execution_count": 22,
   "id": "copyrighted-clearing",
   "metadata": {},
   "outputs": [
    {
     "name": "stdout",
     "output_type": "stream",
     "text": [
      "              precision    recall  f1-score   support\n",
      "\n",
      "           0       0.74      0.75      0.75       178\n",
      "           1       0.80      0.79      0.80       222\n",
      "\n",
      "    accuracy                           0.78       400\n",
      "   macro avg       0.77      0.77      0.77       400\n",
      "weighted avg       0.78      0.78      0.78       400\n",
      "\n"
     ]
    }
   ],
   "source": [
    "print(classification_report(y_test, predictions))"
   ]
  },
  {
   "cell_type": "code",
   "execution_count": null,
   "id": "asian-acrylic",
   "metadata": {},
   "outputs": [],
   "source": []
  }
 ],
 "metadata": {
  "kernelspec": {
   "display_name": "Python [conda env:PythonAdv] *",
   "language": "python",
   "name": "conda-env-PythonAdv-py"
  },
  "language_info": {
   "codemirror_mode": {
    "name": "ipython",
    "version": 3
   },
   "file_extension": ".py",
   "mimetype": "text/x-python",
   "name": "python",
   "nbconvert_exporter": "python",
   "pygments_lexer": "ipython3",
   "version": "3.6.12"
  }
 },
 "nbformat": 4,
 "nbformat_minor": 5
}
